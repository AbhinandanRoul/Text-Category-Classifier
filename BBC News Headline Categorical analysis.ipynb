{
  "nbformat": 4,
  "nbformat_minor": 0,
  "metadata": {
    "accelerator": "GPU",
    "colab": {
      "name": "Course 3 - Week 2 - Exercise - Question.ipynb",
      "provenance": [],
      "toc_visible": true
    },
    "kernelspec": {
      "display_name": "Python 3",
      "name": "python3"
    }
  },
  "cells": [
    {
      "cell_type": "markdown",
      "metadata": {
        "colab_type": "text",
        "id": "view-in-github"
      },
      "source": [
        "<a href=\"https://colab.research.google.com/github/lmoroney/dlaicourse/blob/master/TensorFlow%20In%20Practice/Course%203%20-%20NLP/Course%203%20-%20Week%202%20-%20Exercise%20-%20Question.ipynb\" target=\"_parent\"><img src=\"https://colab.research.google.com/assets/colab-badge.svg\" alt=\"Open In Colab\"/></a>"
      ]
    },
    {
      "cell_type": "code",
      "metadata": {
        "colab_type": "code",
        "id": "gnwiOnGyW5JK",
        "colab": {
          "base_uri": "https://localhost:8080/",
          "height": 204
        },
        "outputId": "d7355b8a-d412-4ddd-8a02-92dce8e60906"
      },
      "source": [
        "import csv\n",
        "import tensorflow as tf\n",
        "import numpy as np\n",
        "from tensorflow.keras.preprocessing.text import Tokenizer\n",
        "from tensorflow.keras.preprocessing.sequence import pad_sequences\n",
        "\n",
        "!wget --no-check-certificate \\\n",
        "    https://storage.googleapis.com/dataset-uploader/bbc/bbc-text.csv \\\n",
        "    -O /tmp/bbc-text.csv"
      ],
      "execution_count": 1,
      "outputs": [
        {
          "output_type": "stream",
          "text": [
            "--2020-08-05 12:23:26--  https://storage.googleapis.com/dataset-uploader/bbc/bbc-text.csv\n",
            "Resolving storage.googleapis.com (storage.googleapis.com)... 172.253.117.128, 173.194.202.128, 74.125.20.128, ...\n",
            "Connecting to storage.googleapis.com (storage.googleapis.com)|172.253.117.128|:443... connected.\n",
            "HTTP request sent, awaiting response... 200 OK\n",
            "Length: 5057493 (4.8M) [text/csv]\n",
            "Saving to: ‘/tmp/bbc-text.csv’\n",
            "\n",
            "\r/tmp/bbc-text.csv     0%[                    ]       0  --.-KB/s               \r/tmp/bbc-text.csv   100%[===================>]   4.82M  --.-KB/s    in 0.02s   \n",
            "\n",
            "2020-08-05 12:23:26 (282 MB/s) - ‘/tmp/bbc-text.csv’ saved [5057493/5057493]\n",
            "\n"
          ],
          "name": "stdout"
        }
      ]
    },
    {
      "cell_type": "markdown",
      "metadata": {
        "id": "dElQbTJcjxY5",
        "colab_type": "text"
      },
      "source": [
        "##Hyperparameters"
      ]
    },
    {
      "cell_type": "code",
      "metadata": {
        "colab_type": "code",
        "id": "EYo6A4v5ZABQ",
        "colab": {}
      },
      "source": [
        "\n",
        "embedding_dim =20 \n",
        "max_length = 150\n",
        "vocab_size = 1500\n",
        "training_portion = .7\n",
        "trunc_type = 'post'\n",
        "padding_type = 'post'\n",
        "oov_tok ='<OOV>' \n"
      ],
      "execution_count": 2,
      "outputs": []
    },
    {
      "cell_type": "markdown",
      "metadata": {
        "id": "SEEmn5dwj9aW",
        "colab_type": "text"
      },
      "source": [
        "##Data Preprocessing \n",
        "Here, I've a list of words which will be neglected during tokenization."
      ]
    },
    {
      "cell_type": "code",
      "metadata": {
        "colab_type": "code",
        "id": "iU1qq3_SZBx_",
        "colab": {
          "base_uri": "https://localhost:8080/",
          "height": 34
        },
        "outputId": "ce9b67b7-f7a4-4c5e-c415-a780425e1947"
      },
      "source": [
        "sentences = []\n",
        "labels = []\n",
        "ignored_words = [\"a\", \"am\", \"an\", \"about\", \"above\", \"after\", \"again\", \"against\", \"all\", \"and\", \"any\", \"are\", \"as\", \"at\", \"be\", \"because\", \"been\", \"before\", \"being\", \"below\", \"between\", \"both\", \"but\", \"by\", \"could\", \"did\", \"do\", \"does\", \"doing\", \"down\", \"during\", \"each\", \"few\", \"for\", \"from\", \"further\", \"had\", \"has\", \"have\", \"having\", \"he\", \"he'd\", \"he'll\", \"he's\", \"her\", \"here\", \"here's\", \"hers\", \"herself\", \"him\", \"himself\", \"his\", \"how\", \"how's\", \"i\", \"i'd\", \"i'll\", \"i'm\", \"i've\", \"if\", \"in\", \"into\", \"is\", \"it\", \"it's\", \"its\", \"itself\", \"let's\", \"me\", \"more\", \"most\", \"my\", \"myself\", \"nor\", \"of\", \"on\", \"once\", \"only\", \"or\", \"other\", \"ought\", \"our\", \"ours\", \"ourselves\", \"out\", \"over\", \"own\", \"same\", \"she\", \"she'd\", \"she'll\", \"she's\", \"should\", \"so\", \"some\", \"such\", \"than\", \"that\", \"that's\", \"the\", \"their\", \"theirs\", \"them\", \"themselves\", \"then\", \"there\", \"there's\", \"these\", \"they\", \"they'd\", \"they'll\", \"they're\", \"they've\", \"this\", \"those\", \"through\", \"to\", \"too\", \"under\", \"until\", \"up\", \"very\", \"was\", \"we\", \"we'd\", \"we'll\", \"we're\", \"we've\", \"were\", \"what\", \"what's\", \"when\", \"when's\", \"where\", \"where's\", \"which\", \"while\", \"who\", \"who's\", \"whom\", \"why\", \"why's\", \"with\", \"would\", \"you\", \"you'd\", \"you'll\", \"you're\", \"you've\", \"your\", \"yours\", \"yourself\", \"yourselves\" ]\n",
        "print(len(ignored_words))\n"
      ],
      "execution_count": 3,
      "outputs": [
        {
          "output_type": "stream",
          "text": [
            "153\n"
          ],
          "name": "stdout"
        }
      ]
    },
    {
      "cell_type": "code",
      "metadata": {
        "colab_type": "code",
        "id": "eutB2xMiZD0e",
        "colab": {
          "base_uri": "https://localhost:8080/",
          "height": 88
        },
        "outputId": "106dc62b-caf7-4ab1-edcf-4c68641511fa"
      },
      "source": [
        "with open(\"/tmp/bbc-text.csv\", 'r') as csvfile:\n",
        "  reader = csv.reader(csvfile, delimiter=',')\n",
        "  next(reader)\n",
        "  for row in reader:\n",
        "        labels.append(row[0])\n",
        "        sentence = row[1]\n",
        "        for word in ignored_words:\n",
        "            token = \" \" + word + \" \"\n",
        "            sentence = sentence.replace(token, \" \")\n",
        "        sentences.append(sentence)\n",
        "\n",
        "    \n",
        "print(len(labels))\n",
        "print(len(sentences))\n",
        "print(sentences[1])\n"
      ],
      "execution_count": 4,
      "outputs": [
        {
          "output_type": "stream",
          "text": [
            "2225\n",
            "2225\n",
            "worldcom boss  left books alone  former worldcom boss bernie ebbers  accused overseeing $11bn (£5.8bn) fraud  never made accounting decisions  witness told jurors.  david myers made comments questioning defence lawyers arguing mr ebbers not responsible worldcom s problems. phone company collapsed 2002 prosecutors claim losses hidden protect firm s shares. mr myers already pleaded guilty fraud assisting prosecutors.  monday  defence lawyer reid weingarten tried distance client allegations. cross examination  asked mr myers ever knew mr ebbers  make accounting decision  .  not aware   mr myers replied.  ever know mr ebbers make accounting entry worldcom books   mr weingarten pressed.  no   replied witness. mr myers admitted ordered false accounting entries request former worldcom chief financial officer scott sullivan. defence lawyers trying paint mr sullivan  admitted fraud will testify later trial  mastermind behind worldcom s accounting house cards.  mr ebbers  team  meanwhile  looking portray affable boss  admission pe graduate economist. whatever abilities  mr ebbers transformed worldcom relative unknown $160bn telecoms giant investor darling late 1990s. worldcom s problems mounted  however  competition increased telecoms boom petered out. firm finally collapsed  shareholders lost $180bn 20 000 workers lost jobs. mr ebbers  trial expected last two months found guilty former ceo faces substantial jail sentence. firmly declared innocence.\n"
          ],
          "name": "stdout"
        }
      ]
    },
    {
      "cell_type": "code",
      "metadata": {
        "colab_type": "code",
        "id": "XfdaWh06ZGe3",
        "colab": {
          "base_uri": "https://localhost:8080/",
          "height": 102
        },
        "outputId": "a5012700-b77a-46a8-8bbc-ae98d2587037"
      },
      "source": [
        "train_size = int(len(sentences) * training_portion )# according to hyperparameters\n",
        "\n",
        "train_sentences = sentences[: train_size] \n",
        "train_labels = labels[: train_size] \n",
        "validation_sentences = sentences[train_size: ]\n",
        "validation_labels = labels[train_size: ]\n",
        "\n",
        "print(train_size)\n",
        "print(len(train_sentences))\n",
        "print(len(train_labels))\n",
        "print(len(validation_sentences))\n",
        "print(len(validation_labels))\n"
      ],
      "execution_count": 5,
      "outputs": [
        {
          "output_type": "stream",
          "text": [
            "1557\n",
            "1557\n",
            "1557\n",
            "668\n",
            "668\n"
          ],
          "name": "stdout"
        }
      ]
    },
    {
      "cell_type": "code",
      "metadata": {
        "colab_type": "code",
        "id": "ULzA8xhwZI22",
        "colab": {
          "base_uri": "https://localhost:8080/",
          "height": 119
        },
        "outputId": "a315acdd-04a3-49c3-bf74-490215f667c3"
      },
      "source": [
        "tokenizer = Tokenizer(num_words=vocab_size, oov_token=oov_tok)\n",
        "tokenizer.fit_on_texts(train_sentences)\n",
        "word_index = tokenizer.word_index\n",
        "\n",
        "train_sequences = tokenizer.texts_to_sequences(train_sentences)\n",
        "train_padded =pad_sequences(train_sequences, maxlen=max_length, padding=padding_type)\n",
        "\n",
        "print(len(train_sequences[0]))\n",
        "print(len(train_padded[0]))\n",
        "\n",
        "print(len(train_sequences[1]))\n",
        "print(len(train_padded[1]))\n",
        "\n",
        "print(len(train_sequences[10]))\n",
        "print(len(train_padded[10]))\n",
        "\n"
      ],
      "execution_count": 6,
      "outputs": [
        {
          "output_type": "stream",
          "text": [
            "449\n",
            "150\n",
            "200\n",
            "150\n",
            "192\n",
            "150\n"
          ],
          "name": "stdout"
        }
      ]
    },
    {
      "cell_type": "code",
      "metadata": {
        "colab_type": "code",
        "id": "c8PeFWzPZLW_",
        "colab": {
          "base_uri": "https://localhost:8080/",
          "height": 51
        },
        "outputId": "3e13d211-fff0-4dd2-f278-010456c7286a"
      },
      "source": [
        "validation_sequences = tokenizer.texts_to_sequences(validation_sentences)\n",
        "validation_padded =pad_sequences(validation_sequences, maxlen=max_length, padding=padding_type)\n",
        "\n",
        "print(len(validation_sequences))\n",
        "print(validation_padded.shape)\n"
      ],
      "execution_count": 7,
      "outputs": [
        {
          "output_type": "stream",
          "text": [
            "668\n",
            "(668, 150)\n"
          ],
          "name": "stdout"
        }
      ]
    },
    {
      "cell_type": "code",
      "metadata": {
        "colab_type": "code",
        "id": "XkWiQ_FKZNp2",
        "colab": {
          "base_uri": "https://localhost:8080/",
          "height": 153
        },
        "outputId": "ac8d144a-dc1b-4b5a-f6e5-dfcd5acf08b4"
      },
      "source": [
        "label_tokenizer =Tokenizer()\n",
        "label_tokenizer.fit_on_texts(labels)\n",
        "training_label_seq = np.array(label_tokenizer.texts_to_sequences(train_labels))\n",
        "validation_label_seq =np.array(label_tokenizer.texts_to_sequences(validation_labels))\n",
        "\n",
        "print(training_label_seq[0])\n",
        "print(training_label_seq[1])\n",
        "print(training_label_seq[2])\n",
        "print(training_label_seq.shape)\n",
        "\n",
        "print(validation_label_seq[0])\n",
        "print(validation_label_seq[1])\n",
        "print(validation_label_seq[2])\n",
        "print(validation_label_seq.shape)\n",
        "\n"
      ],
      "execution_count": 8,
      "outputs": [
        {
          "output_type": "stream",
          "text": [
            "[4]\n",
            "[2]\n",
            "[1]\n",
            "(1557, 1)\n",
            "[1]\n",
            "[1]\n",
            "[5]\n",
            "(668, 1)\n"
          ],
          "name": "stdout"
        }
      ]
    },
    {
      "cell_type": "code",
      "metadata": {
        "colab_type": "code",
        "id": "HZ5um4MWZP-W",
        "colab": {
          "base_uri": "https://localhost:8080/",
          "height": 289
        },
        "outputId": "18c39e83-d935-4f7e-fcc9-30cbe65690ff"
      },
      "source": [
        "model = tf.keras.Sequential([\n",
        "    tf.keras.layers.Embedding(vocab_size, embedding_dim, input_length=max_length),\n",
        "    tf.keras.layers.GlobalAveragePooling1D(),\n",
        "    tf.keras.layers.Dense(256, activation='relu'),\n",
        "    tf.keras.layers.Dense(6, activation='softmax')\n",
        "])\n",
        "model.compile(loss='sparse_categorical_crossentropy',optimizer='rmsprop',metrics=['accuracy'])\n",
        "model.summary()\n"
      ],
      "execution_count": 14,
      "outputs": [
        {
          "output_type": "stream",
          "text": [
            "Model: \"sequential_1\"\n",
            "_________________________________________________________________\n",
            "Layer (type)                 Output Shape              Param #   \n",
            "=================================================================\n",
            "embedding_1 (Embedding)      (None, 150, 20)           30000     \n",
            "_________________________________________________________________\n",
            "global_average_pooling1d_1 ( (None, 20)                0         \n",
            "_________________________________________________________________\n",
            "dense_2 (Dense)              (None, 256)               5376      \n",
            "_________________________________________________________________\n",
            "dense_3 (Dense)              (None, 6)                 1542      \n",
            "=================================================================\n",
            "Total params: 36,918\n",
            "Trainable params: 36,918\n",
            "Non-trainable params: 0\n",
            "_________________________________________________________________\n"
          ],
          "name": "stdout"
        }
      ]
    },
    {
      "cell_type": "code",
      "metadata": {
        "colab_type": "code",
        "id": "XsfdxySKZSXu",
        "colab": {
          "base_uri": "https://localhost:8080/",
          "height": 527
        },
        "outputId": "b7346b88-aae3-4949-c933-7d2c4de3a8b0"
      },
      "source": [
        "num_epochs = 15\n",
        "history = model.fit(train_padded, training_label_seq, epochs=num_epochs, validation_data=(validation_padded, validation_label_seq), verbose=2)"
      ],
      "execution_count": 15,
      "outputs": [
        {
          "output_type": "stream",
          "text": [
            "Epoch 1/15\n",
            "49/49 - 0s - loss: 1.7009 - accuracy: 0.2845 - val_loss: 1.6265 - val_accuracy: 0.3144\n",
            "Epoch 2/15\n",
            "49/49 - 0s - loss: 1.5726 - accuracy: 0.3995 - val_loss: 1.5134 - val_accuracy: 0.4311\n",
            "Epoch 3/15\n",
            "49/49 - 0s - loss: 1.4384 - accuracy: 0.4541 - val_loss: 1.3589 - val_accuracy: 0.5225\n",
            "Epoch 4/15\n",
            "49/49 - 0s - loss: 1.2456 - accuracy: 0.5626 - val_loss: 1.1584 - val_accuracy: 0.7021\n",
            "Epoch 5/15\n",
            "49/49 - 0s - loss: 1.0286 - accuracy: 0.7502 - val_loss: 0.9531 - val_accuracy: 0.8174\n",
            "Epoch 6/15\n",
            "49/49 - 0s - loss: 0.8012 - accuracy: 0.8703 - val_loss: 0.7391 - val_accuracy: 0.8757\n",
            "Epoch 7/15\n",
            "49/49 - 0s - loss: 0.5901 - accuracy: 0.9184 - val_loss: 0.5584 - val_accuracy: 0.8982\n",
            "Epoch 8/15\n",
            "49/49 - 0s - loss: 0.4226 - accuracy: 0.9396 - val_loss: 0.4230 - val_accuracy: 0.9117\n",
            "Epoch 9/15\n",
            "49/49 - 0s - loss: 0.3045 - accuracy: 0.9550 - val_loss: 0.3329 - val_accuracy: 0.9296\n",
            "Epoch 10/15\n",
            "49/49 - 0s - loss: 0.2228 - accuracy: 0.9640 - val_loss: 0.2692 - val_accuracy: 0.9401\n",
            "Epoch 11/15\n",
            "49/49 - 0s - loss: 0.1680 - accuracy: 0.9685 - val_loss: 0.2248 - val_accuracy: 0.9356\n",
            "Epoch 12/15\n",
            "49/49 - 0s - loss: 0.1304 - accuracy: 0.9730 - val_loss: 0.1983 - val_accuracy: 0.9401\n",
            "Epoch 13/15\n",
            "49/49 - 0s - loss: 0.1027 - accuracy: 0.9756 - val_loss: 0.1789 - val_accuracy: 0.9371\n",
            "Epoch 14/15\n",
            "49/49 - 0s - loss: 0.0824 - accuracy: 0.9833 - val_loss: 0.1667 - val_accuracy: 0.9431\n",
            "Epoch 15/15\n",
            "49/49 - 0s - loss: 0.0671 - accuracy: 0.9846 - val_loss: 0.1554 - val_accuracy: 0.9506\n"
          ],
          "name": "stdout"
        }
      ]
    },
    {
      "cell_type": "markdown",
      "metadata": {
        "id": "rzMkBXOtlDWT",
        "colab_type": "text"
      },
      "source": [
        "#Plotting Epochs vs Accuracy/Loss graph"
      ]
    },
    {
      "cell_type": "code",
      "metadata": {
        "colab_type": "code",
        "id": "dQ0BX2apXS9u",
        "colab": {
          "base_uri": "https://localhost:8080/",
          "height": 541
        },
        "outputId": "2de64303-148b-416f-a6d0-59c9a9492a0c"
      },
      "source": [
        "import matplotlib.pyplot as plt\n",
        "\n",
        "\n",
        "def plot_graphs(history, string):\n",
        "  plt.plot(history.history[string])\n",
        "  plt.plot(history.history['val_'+string])\n",
        "  plt.xlabel(\"Epochs\")\n",
        "  plt.ylabel(string)\n",
        "  plt.legend([string, 'val_'+string])\n",
        "  plt.show()\n",
        "  \n",
        "plot_graphs(history, \"accuracy\")\n",
        "plot_graphs(history, \"loss\")"
      ],
      "execution_count": 16,
      "outputs": [
        {
          "output_type": "display_data",
          "data": {
            "image/png": "[encoded data removed]",
            "text/plain": [
              "<Figure size 432x288 with 1 Axes>"
            ]
          },
          "metadata": {
            "tags": [],
            "needs_background": "light"
          }
        },
        {
          "output_type": "display_data",
          "data": {
            "image/png": "[encoded data removed]",
            "text/plain": [
              "<Figure size 432x288 with 1 Axes>"
            ]
          },
          "metadata": {
            "tags": [],
            "needs_background": "light"
          }
        }
      ]
    }
  ]
}